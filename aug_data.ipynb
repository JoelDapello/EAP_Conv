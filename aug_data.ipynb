{
 "cells": [
  {
   "cell_type": "code",
   "execution_count": 4,
   "metadata": {
    "collapsed": false
   },
   "outputs": [
    {
     "name": "stdout",
     "output_type": "stream",
     "text": [
      "IMG_20160701_123029.jpg\n",
      "IMG_20160701_122813.jpg\n",
      "IMG_20160701_123032.jpg\n",
      "IMG_20160701_123023.jpg\n",
      "IMG_20160701_122921.jpg\n",
      "IMG_20160701_122832.jpg\n",
      "IMG_20160701_122816.jpg\n",
      "IMG_20160701_122804.jpg\n",
      "IMG_20160701_122853.jpg\n",
      "IMG_20160701_122905.jpg\n",
      "IMG_20160701_122859.jpg\n"
     ]
    },
    {
     "data": {
      "text/plain": [
       "[None, None, None, None, None, None, None, None, None, None, None]"
      ]
     },
     "execution_count": 4,
     "metadata": {},
     "output_type": "execute_result"
    }
   ],
   "source": [
    "from os import listdir\n",
    "imgs = listdir('data/train/P1')\n",
    "\n",
    "[img for img in imgs]"
   ]
  },
  {
   "cell_type": "code",
   "execution_count": 1,
   "metadata": {
    "collapsed": false
   },
   "outputs": [
    {
     "name": "stdout",
     "output_type": "stream",
     "text": [
      "/home/laika117/.jupyter\n",
      "/home/laika117/.jupyter/custom/custom.js\n",
      "alert(\"hello world from custom.js\");\n",
      "require([\"codemirror/keymap/sublime\", \"notebook/js/cell\"], function(sublime_keymap, cell) {\n",
      "    cell.Cell.options_default.cm_config.keyMap = 'sublime';\n",
      "});\n",
      "\n"
     ]
    }
   ],
   "source": [
    "# Print the location of Jupyter's config directory\n",
    "from jupyter_core.paths import jupyter_config_dir\n",
    "jupyter_dir = jupyter_config_dir()\n",
    "print(jupyter_dir)\n",
    "\n",
    "# Print the location of custom.js\n",
    "import os.path\n",
    "custom_js_path = os.path.join(jupyter_dir, 'custom', 'custom.js')\n",
    "print(custom_js_path)\n",
    "\n",
    "# Print the contents of custom.js, if it exists.\n",
    "if os.path.isfile(custom_js_path):\n",
    "    with open(custom_js_path) as f:\n",
    "        print(f.read())\n",
    "else:\n",
    "    print(\"You don't have a custom.js file\")\n",
    "\n",
    "    "
   ]
  },
  {
   "cell_type": "code",
   "execution_count": 4,
   "metadata": {
    "collapsed": false
   },
   "outputs": [],
   "source": [
    "from os import listdir\n",
    "from keras.preprocessing.image import ImageDataGenerator, array_to_img, img_to_array, load_img\n",
    "datagen = ImageDataGenerator(\n",
    "        rotation_range=10,\n",
    "        width_shift_range=0.05,\n",
    "        height_shift_range=0.05,\n",
    "        rescale=1./255,\n",
    "        shear_range=0.1,\n",
    "        zoom_range=0.05,\n",
    "        fill_mode='nearest')\n",
    "\n",
    "\n",
    "img = load_img('data/train/P1/IMG_20160701_123029.jpg')  # this is a PIL image\n",
    "x = img_to_array(img)  # this is a Numpy array with shape (3, 150, 150)\n",
    "x = x.reshape((1,) + x.shape)  # this is a Numpy array with shape (1, 3, 150, 150)\n",
    "\n",
    "# the .flow() command below generates batches of randomly transformed images\n",
    "# and saves the results to the `preview/` directory\n",
    "i = 0\n",
    "for batch in datagen.flow(x, batch_size=1,\n",
    "                          save_to_dir='data/train/P1', save_prefix='g2', save_format='jpeg'):\n",
    "    i += 1\n",
    "    if i > 3:\n",
    "        break  # otherwise the generator would loop indefinitely"
   ]
  },
  {
   "cell_type": "code",
   "execution_count": 11,
   "metadata": {
    "collapsed": false
   },
   "outputs": [
    {
     "name": "stdout",
     "output_type": "stream",
     "text": [
      "data/train/P1/IMG_20160701_123029.jpg\n",
      "data/train/P1/IMG_20160701_122813.jpg\n",
      "data/train/P1/IMG_20160701_123032.jpg\n",
      "data/train/P1/IMG_20160701_123023.jpg\n",
      "data/train/P1/IMG_20160701_122921.jpg\n",
      "data/train/P1/IMG_20160701_122832.jpg\n",
      "data/train/P1/IMG_20160701_122816.jpg\n",
      "data/train/P1/IMG_20160701_122804.jpg\n",
      "data/train/P1/IMG_20160701_122853.jpg\n",
      "data/train/P1/IMG_20160701_122905.jpg\n",
      "data/train/P1/IMG_20160701_122859.jpg\n",
      "data/train/P2/IMG_20160701_124451.jpg\n",
      "data/train/P2/IMG_20160701_124553.jpg\n",
      "data/train/P2/IMG_20160701_124411.jpg\n",
      "data/train/P2/IMG_20160701_124510.jpg\n",
      "data/train/P2/IMG_20160701_124437.jpg\n",
      "data/train/P2/IMG_20160701_124432.jpg\n",
      "data/train/P2/IMG_20160701_124355.jpg\n",
      "data/train/P2/IMG_20160701_124600.jpg\n",
      "data/train/P2/IMG_20160701_124351.jpg\n",
      "data/train/P2/IMG_20160701_124414.jpg\n",
      "data/train/P2/IMG_20160701_124517.jpg\n"
     ]
    },
    {
     "data": {
      "text/plain": [
       "[None, None, None, None, None, None, None, None, None, None, None]"
      ]
     },
     "execution_count": 11,
     "metadata": {},
     "output_type": "execute_result"
    }
   ],
   "source": [
    "from os import listdir\n",
    "from keras.preprocessing.image import ImageDataGenerator, array_to_img, img_to_array, load_img\n",
    "\n",
    "datagen = ImageDataGenerator(\n",
    "        rotation_range=10,\n",
    "        width_shift_range=0.05,\n",
    "        height_shift_range=0.05,\n",
    "        rescale=1./255,\n",
    "        shear_range=0.1,\n",
    "        zoom_range=0.05,\n",
    "        fill_mode='nearest')\n",
    "\n",
    "\n",
    "def aug_img(path, dp, n=100):\n",
    "    img = load_img(dp+path)\n",
    "    print(dp+path)\n",
    "    x = img_to_array(img)  # this is a Numpy array with shape (3, 150, 150)\n",
    "    x = x.reshape((1,) + x.shape)  # this is a Numpy array with shape (1, 3, 150, 150)\n",
    "\n",
    "    # the .flow() command below generates batches of randomly transformed images\n",
    "    # and saves the results to the `preview/` directory\n",
    "    i = 0\n",
    "    for batch in datagen.flow(x, batch_size=1,\n",
    "                          save_to_dir=dp, save_prefix='aug', save_format='jpeg'):\n",
    "        i += 1\n",
    "        if i > n:\n",
    "            break  # otherwise the generator would loop indefinitely\n",
    "\n",
    "data_path = 'data/train/P1/'\n",
    "imgs = listdir(data_path)\n",
    "[aug_img(img, data_path) for img in imgs]\n",
    "\n",
    "data_path = 'data/train/P2/'\n",
    "imgs = listdir(data_path)\n",
    "[aug_img(img, data_path) for img in imgs]\n",
    "\n",
    "data_path = 'data/validation/P1/'\n",
    "imgs = listdir(data_path)\n",
    "[aug_img(img, data_path) for img in imgs]\n",
    "\n",
    "data_path = 'data/validation/P2/'\n",
    "imgs = listdir(data_path)\n",
    "[aug_img(img, data_path) for img in imgs]"
   ]
  },
  {
   "cell_type": "code",
   "execution_count": 9,
   "metadata": {
    "collapsed": false
   },
   "outputs": [
    {
     "data": {
      "text/plain": [
       "['P1', 'P2']"
      ]
     },
     "execution_count": 9,
     "metadata": {},
     "output_type": "execute_result"
    }
   ],
   "source": []
  }
 ],
 "metadata": {
  "kernelspec": {
   "display_name": "Python 3",
   "language": "python",
   "name": "python3"
  },
  "language_info": {
   "codemirror_mode": {
    "name": "ipython",
    "version": 3
   },
   "file_extension": ".py",
   "mimetype": "text/x-python",
   "name": "python",
   "nbconvert_exporter": "python",
   "pygments_lexer": "ipython3",
   "version": "3.5.1"
  }
 },
 "nbformat": 4,
 "nbformat_minor": 0
}
